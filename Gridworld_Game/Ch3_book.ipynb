{
 "cells": [
  {
   "cell_type": "markdown",
   "metadata": {},
   "source": [
    "# Chapter 3 - Deep Q-learning\n",
    "### Deep Reinforcement Learning *in Action*"
   ]
  },
  {
   "cell_type": "markdown",
   "metadata": {},
   "source": [
    "##### Listing 3.1"
   ]
  },
  {
   "cell_type": "code",
   "execution_count": 1,
   "metadata": {
    "ExecuteTime": {
     "end_time": "2024-01-13T09:32:03.342402043Z",
     "start_time": "2024-01-13T09:32:03.294903978Z"
    }
   },
   "outputs": [],
   "source": [
    "from Gridworld import Gridworld\n",
    "game = Gridworld(size=4, mode='static')"
   ]
  },
  {
   "cell_type": "code",
   "execution_count": 2,
   "metadata": {
    "ExecuteTime": {
     "end_time": "2024-01-13T09:32:24.379868745Z",
     "start_time": "2024-01-13T09:32:24.369841789Z"
    }
   },
   "outputs": [
    {
     "data": {
      "text/plain": "array([['+', '-', ' ', 'P'],\n       [' ', 'W', ' ', ' '],\n       [' ', ' ', ' ', ' '],\n       [' ', ' ', ' ', ' ']], dtype='<U2')"
     },
     "execution_count": 2,
     "metadata": {},
     "output_type": "execute_result"
    }
   ],
   "source": [
    "game.display()"
   ]
  },
  {
   "cell_type": "code",
   "execution_count": 3,
   "metadata": {
    "ExecuteTime": {
     "end_time": "2024-01-13T09:33:25.980331161Z",
     "start_time": "2024-01-13T09:33:25.975743712Z"
    }
   },
   "outputs": [
    {
     "data": {
      "text/plain": "array([['+', '-', ' ', ' '],\n       [' ', 'W', ' ', ' '],\n       [' ', ' ', 'P', ' '],\n       [' ', ' ', ' ', ' ']], dtype='<U2')"
     },
     "execution_count": 3,
     "metadata": {},
     "output_type": "execute_result"
    }
   ],
   "source": [
    "game.makeMove('d')\n",
    "game.makeMove('d')\n",
    "game.makeMove('l')\n",
    "game.display()"
   ]
  },
  {
   "cell_type": "code",
   "execution_count": 4,
   "metadata": {
    "ExecuteTime": {
     "end_time": "2024-01-13T09:33:36.121273461Z",
     "start_time": "2024-01-13T09:33:36.078011595Z"
    }
   },
   "outputs": [
    {
     "data": {
      "text/plain": "-1"
     },
     "execution_count": 4,
     "metadata": {},
     "output_type": "execute_result"
    }
   ],
   "source": [
    "game.reward()"
   ]
  },
  {
   "cell_type": "code",
   "execution_count": null,
   "metadata": {},
   "outputs": [],
   "source": [
    "game.board.render_np()"
   ]
  },
  {
   "cell_type": "markdown",
   "metadata": {},
   "source": [
    "##### Listing 3.2"
   ]
  },
  {
   "cell_type": "code",
   "execution_count": 2,
   "metadata": {
    "ExecuteTime": {
     "end_time": "2024-01-13T13:19:30.189660699Z",
     "start_time": "2024-01-13T13:19:30.186376920Z"
    }
   },
   "outputs": [],
   "source": [
    "import numpy as np\n",
    "import torch\n",
    "from Gridworld import Gridworld\n",
    "from IPython.display import clear_output\n",
    "import random\n",
    "from matplotlib import pylab as plt\n",
    "\n",
    "# 定义神经网络模型的层结构\n",
    "l1 = 64\n",
    "l2 = 150\n",
    "l3 = 100\n",
    "l4 = 4\n",
    "\n",
    "model = torch.nn.Sequential(\n",
    "    torch.nn.Linear(l1, l2),\n",
    "    torch.nn.ReLU(),\n",
    "    torch.nn.Linear(l2, l3),\n",
    "    torch.nn.ReLU(),\n",
    "    torch.nn.Linear(l3, l4)\n",
    ")\n",
    "\n",
    "# 定义损失函数和优化器\n",
    "loss_fn = torch.nn.MSELoss()\n",
    "learning_rate = 1e-3\n",
    "optimizer = torch.optim.Adam(model.parameters(), lr=learning_rate)\n",
    "\n",
    "# 强化学习的参数\n",
    "gamma = 0.9  # 折扣因子，影响对未来奖励的重视程度\n",
    "epsilon = 1.0  # ε-贪心法中的贪心因子，用于在探索和利用之间取得平衡\n",
    "\n",
    "# 注意：下面的学习率和优化器定义可能是重复的，可能存在错误\n",
    "# learning_rate = 1e-3\n",
    "# optimizer = torch.optim.Adam(model.parameters(), lr=learning_rate)\n",
    "# 这部分可能需要确认是否存在错误\n",
    "\n",
    "# 可能的错误：下面的赋值可能会覆盖之前的值\n",
    "gamma = 0.9\n",
    "epsilon = 1.0"
   ]
  },
  {
   "cell_type": "markdown",
   "metadata": {},
   "source": [
    "##### Listing 3.3"
   ]
  },
  {
   "cell_type": "code",
   "execution_count": 3,
   "metadata": {
    "ExecuteTime": {
     "end_time": "2024-01-13T13:19:33.369334045Z",
     "start_time": "2024-01-13T13:19:33.366747328Z"
    }
   },
   "outputs": [],
   "source": [
    "action_set = {\n",
    "    0: 'u',\n",
    "    1: 'd',\n",
    "    2: 'l',\n",
    "    3: 'r',\n",
    "}"
   ]
  },
  {
   "cell_type": "code",
   "execution_count": 6,
   "metadata": {},
   "outputs": [
    {
     "name": "stdout",
     "output_type": "stream",
     "text": [
      "999 0.006217891350388527\n"
     ]
    }
   ],
   "source": [
    "epochs = 1000\n",
    "losses = []  # 用于存储每个epoch的损失值的列表\n",
    "\n",
    "for i in range(epochs):  # 迭代训练周期\n",
    "    game = Gridworld(size=4, mode='static')  # 创建一个4x4的Gridworld实例\n",
    "    \n",
    "    # 初始化当前状态，并添加一些随机噪声\n",
    "    state_ = game.board.render_np().reshape(1, 64) + np.random.rand(1, 64) / 10.0  # D\n",
    "    \n",
    "    # 将NumPy数组转换为PyTorch张量\n",
    "    state1 = torch.from_numpy(state_).float()  # E\n",
    "    \n",
    "    status = 1  # 游戏状态，1表示游戏正在进行中\n",
    "    \n",
    "    while status == 1:  # 当游戏状态为1时（游戏进行中）\n",
    "        qval = model(state1)  # 获取当前状态的Q值（模型的输出）  # H\n",
    "        qval_ = qval.data.numpy()\n",
    "        \n",
    "        # ε-贪心法：以ε的概率随机选择动作，以1-ε的概率选择Q值最大的动作\n",
    "        if random.random() < epsilon:  # I\n",
    "            action_ = np.random.randint(0, 4)  # 随机选择动作\n",
    "        else:\n",
    "            action_ = np.argmax(qval_)  # 选择Q值最大的动作\n",
    "        \n",
    "        action = action_set[action_]  # 获取选择的动作  # J\n",
    "        \n",
    "        game.makeMove(action)  # 执行动作并更新游戏状态  # K\n",
    "        \n",
    "        # 获取新的状态，并添加一些随机噪声\n",
    "        state2_ = game.board.render_np().reshape(1, 64) + np.random.rand(1, 64) / 10.0  # L\n",
    "        \n",
    "        # 将NumPy数组转换为PyTorch张量\n",
    "        state2 = torch.from_numpy(state2_).float()  # L\n",
    "        \n",
    "        reward = game.reward()  # 获取当前动作的奖励值\n",
    "        \n",
    "        with torch.no_grad():\n",
    "            newQ = model(state2.reshape(1, 64))  # 获取新状态的Q值（模型的输出）\n",
    "        \n",
    "        maxQ = torch.max(newQ)  # 获取新状态的最大Q值  # M\n",
    "        \n",
    "        # 根据奖励计算目标Q值Y\n",
    "        if reward == -1:  # N\n",
    "            Y = reward + (gamma * maxQ)\n",
    "        else:\n",
    "            Y = reward\n",
    "        \n",
    "        Y = torch.Tensor([Y]).detach()\n",
    "        X = qval.squeeze()[action_]  # 获取当前状态选择的动作的Q值  # O\n",
    "        \n",
    "        # 计算损失值\n",
    "        loss = loss_fn(X, Y)  # P\n",
    "        \n",
    "        print(i, loss.item())\n",
    "        clear_output(wait=True)\n",
    "        \n",
    "        optimizer.zero_grad()  # 清零梯度\n",
    "        loss.backward()  # 反向传播计算梯度\n",
    "        losses.append(loss.item())  # 记录损失值\n",
    "        optimizer.step()  # 更新模型参数\n",
    "        \n",
    "        state1 = state2  # 更新当前状态为新状态\n",
    "        \n",
    "        if reward != -1:  # 如果游戏结束（达到目标或走到不可通行的位置）\n",
    "            status = 0  # 将游戏状态置为0，结束当前epoch\n",
    "    \n",
    "    if epsilon > 0.1:  # 逐渐减小贪心因子ε\n",
    "        epsilon -= (1 / epochs)  # R\n"
   ]
  },
  {
   "cell_type": "code",
   "execution_count": 7,
   "metadata": {
    "ExecuteTime": {
     "end_time": "2024-01-13T13:40:35.615423473Z",
     "start_time": "2024-01-13T13:40:35.508026161Z"
    }
   },
   "outputs": [
    {
     "data": {
      "text/plain": "Text(0, 0.5, 'Loss')"
     },
     "execution_count": 7,
     "metadata": {},
     "output_type": "execute_result"
    },
    {
     "data": {
      "text/plain": "<Figure size 1000x700 with 1 Axes>",
      "image/png": "[encoded data removed]"
     },
     "metadata": {},
     "output_type": "display_data"
    }
   ],
   "source": [
    "plt.figure(figsize=(10,7))\n",
    "plt.plot(losses)\n",
    "plt.xlabel(\"Epochs\",fontsize=22)\n",
    "plt.ylabel(\"Loss\",fontsize=22)"
   ]
  },
  {
   "cell_type": "markdown",
   "metadata": {},
   "source": [
    "##### PyTorch Automatic Differentiation Review"
   ]
  },
  {
   "cell_type": "code",
   "execution_count": 8,
   "metadata": {
    "ExecuteTime": {
     "end_time": "2024-01-13T13:42:19.106161421Z",
     "start_time": "2024-01-13T13:42:19.102866915Z"
    }
   },
   "outputs": [],
   "source": [
    "# 创建张量 m，并设置 requires_grad 为 True，以便后续进行梯度计算\n",
    "m = torch.Tensor([2.0])\n",
    "m.requires_grad = True\n",
    "\n",
    "# 创建张量 b，并设置 requires_grad 为 True，以便后续进行梯度计算\n",
    "b = torch.Tensor([1.0])\n",
    "b.requires_grad = True\n",
    "\n",
    "# 定义线性模型函数\n",
    "def linear_model(x, m, b):\n",
    "    # 计算线性模型的输出，y = m*x + b\n",
    "    y = m * x + b\n",
    "    return y\n",
    "# m 被初始化为包含一个数值 2.0 的标量张量："
   ]
  },
  {
   "cell_type": "code",
   "execution_count": 9,
   "metadata": {
    "ExecuteTime": {
     "end_time": "2024-01-13T13:42:36.831522287Z",
     "start_time": "2024-01-13T13:42:36.822328034Z"
    }
   },
   "outputs": [],
   "source": [
    "#with torch.no_grad():\n",
    "y = linear_model(torch.Tensor([4]),m,b)"
   ]
  },
  {
   "cell_type": "code",
   "execution_count": 10,
   "metadata": {
    "ExecuteTime": {
     "end_time": "2024-01-13T13:42:39.278299006Z",
     "start_time": "2024-01-13T13:42:39.269127937Z"
    }
   },
   "outputs": [
    {
     "data": {
      "text/plain": "<AddBackward0 at 0x7fea48226730>"
     },
     "execution_count": 10,
     "metadata": {},
     "output_type": "execute_result"
    }
   ],
   "source": [
    "y.grad_fn"
   ]
  },
  {
   "cell_type": "code",
   "execution_count": 11,
   "metadata": {
    "ExecuteTime": {
     "end_time": "2024-01-13T13:42:53.126975250Z",
     "start_time": "2024-01-13T13:42:53.118895516Z"
    }
   },
   "outputs": [],
   "source": [
    "y.backward()"
   ]
  },
  {
   "cell_type": "code",
   "execution_count": 12,
   "metadata": {
    "ExecuteTime": {
     "end_time": "2024-01-13T13:43:07.164046267Z",
     "start_time": "2024-01-13T13:43:07.159082645Z"
    }
   },
   "outputs": [
    {
     "data": {
      "text/plain": "tensor([4.])"
     },
     "execution_count": 12,
     "metadata": {},
     "output_type": "execute_result"
    }
   ],
   "source": [
    "m.grad"
   ]
  },
  {
   "cell_type": "markdown",
   "metadata": {},
   "source": [
    "##### Listing 3.4"
   ]
  },
  {
   "cell_type": "code",
   "execution_count": 16,
   "metadata": {
    "ExecuteTime": {
     "end_time": "2024-01-13T13:56:52.231054894Z",
     "start_time": "2024-01-13T13:56:52.227389067Z"
    }
   },
   "outputs": [],
   "source": [
    "def test_model(model, mode='random', display=True):       # mode='static'\n",
    "    i = 0\n",
    "    \n",
    "    # 创建 Gridworld 游戏实例\n",
    "    test_game = Gridworld(mode=mode)\n",
    "    \n",
    "    # 初始化游戏状态，并添加一些随机噪声\n",
    "    state_ = test_game.board.render_np().reshape(1, 64) + np.random.rand(1, 64) / 10.0\n",
    "    \n",
    "    # 将NumPy数组转换为PyTorch张量\n",
    "    state = torch.from_numpy(state_).float()\n",
    "    \n",
    "    if display:\n",
    "        print(\"Initial State:\")\n",
    "        print(test_game.display())\n",
    "    \n",
    "    status = 1\n",
    "    \n",
    "    while status == 1:  # 当游戏状态为1时（游戏进行中）\n",
    "        qval = model(state)\n",
    "        qval_ = qval.data.numpy()\n",
    "        \n",
    "        # 选择Q值最大的动作\n",
    "        action_ = np.argmax(qval_)  # B\n",
    "        \n",
    "        # 获取对应的动作\n",
    "        action = action_set[action_]\n",
    "        \n",
    "        if display:\n",
    "            print('Move #: %s; Taking action: %s' % (i, action))\n",
    "        \n",
    "        test_game.makeMove(action)\n",
    "        \n",
    "        # 获取新的状态，并添加一些随机噪声\n",
    "        state_ = test_game.board.render_np().reshape(1, 64) + np.random.rand(1, 64) / 10.0\n",
    "        \n",
    "        # 将NumPy数组转换为PyTorch张量\n",
    "        state = torch.from_numpy(state_).float()\n",
    "        \n",
    "        if display:\n",
    "            print(test_game.display())\n",
    "        \n",
    "        reward = test_game.reward()\n",
    "        \n",
    "        if reward != -1:\n",
    "            if reward > 0:\n",
    "                status = 2\n",
    "                if display:\n",
    "                    print(\"Game won! Reward: %s\" % (reward,))\n",
    "            else:\n",
    "                status = 0\n",
    "                if display:\n",
    "                    print(\"Game LOST. Reward: %s\" % (reward,))\n",
    "        \n",
    "        i += 1\n",
    "        \n",
    "        if i > 15:\n",
    "            if display:\n",
    "                print(\"Game lost; too many moves.\")\n",
    "            break\n",
    "    \n",
    "    # 判断游戏是否胜利\n",
    "    win = True if status == 2 else False\n",
    "    return win\n"
   ]
  },
  {
   "cell_type": "code",
   "execution_count": 17,
   "metadata": {
    "ExecuteTime": {
     "end_time": "2024-01-13T13:56:54.826775710Z",
     "start_time": "2024-01-13T13:56:54.812053598Z"
    }
   },
   "outputs": [
    {
     "name": "stdout",
     "output_type": "stream",
     "text": [
      "Initial State:\n",
      "[[' ' 'W' ' ' '-']\n",
      " ['P' ' ' ' ' ' ']\n",
      " [' ' ' ' '+' ' ']\n",
      " [' ' ' ' ' ' ' ']]\n",
      "Move #: 0; Taking action: u\n",
      "[['P' 'W' ' ' '-']\n",
      " [' ' ' ' ' ' ' ']\n",
      " [' ' ' ' '+' ' ']\n",
      " [' ' ' ' ' ' ' ']]\n",
      "Move #: 1; Taking action: l\n",
      "[['P' 'W' ' ' '-']\n",
      " [' ' ' ' ' ' ' ']\n",
      " [' ' ' ' '+' ' ']\n",
      " [' ' ' ' ' ' ' ']]\n",
      "Move #: 2; Taking action: l\n",
      "[['P' 'W' ' ' '-']\n",
      " [' ' ' ' ' ' ' ']\n",
      " [' ' ' ' '+' ' ']\n",
      " [' ' ' ' ' ' ' ']]\n",
      "Move #: 3; Taking action: l\n",
      "[['P' 'W' ' ' '-']\n",
      " [' ' ' ' ' ' ' ']\n",
      " [' ' ' ' '+' ' ']\n",
      " [' ' ' ' ' ' ' ']]\n",
      "Move #: 4; Taking action: l\n",
      "[['P' 'W' ' ' '-']\n",
      " [' ' ' ' ' ' ' ']\n",
      " [' ' ' ' '+' ' ']\n",
      " [' ' ' ' ' ' ' ']]\n",
      "Move #: 5; Taking action: l\n",
      "[['P' 'W' ' ' '-']\n",
      " [' ' ' ' ' ' ' ']\n",
      " [' ' ' ' '+' ' ']\n",
      " [' ' ' ' ' ' ' ']]\n",
      "Move #: 6; Taking action: l\n",
      "[['P' 'W' ' ' '-']\n",
      " [' ' ' ' ' ' ' ']\n",
      " [' ' ' ' '+' ' ']\n",
      " [' ' ' ' ' ' ' ']]\n",
      "Move #: 7; Taking action: l\n",
      "[['P' 'W' ' ' '-']\n",
      " [' ' ' ' ' ' ' ']\n",
      " [' ' ' ' '+' ' ']\n",
      " [' ' ' ' ' ' ' ']]\n",
      "Move #: 8; Taking action: l\n",
      "[['P' 'W' ' ' '-']\n",
      " [' ' ' ' ' ' ' ']\n",
      " [' ' ' ' '+' ' ']\n",
      " [' ' ' ' ' ' ' ']]\n",
      "Move #: 9; Taking action: l\n",
      "[['P' 'W' ' ' '-']\n",
      " [' ' ' ' ' ' ' ']\n",
      " [' ' ' ' '+' ' ']\n",
      " [' ' ' ' ' ' ' ']]\n",
      "Move #: 10; Taking action: l\n",
      "[['P' 'W' ' ' '-']\n",
      " [' ' ' ' ' ' ' ']\n",
      " [' ' ' ' '+' ' ']\n",
      " [' ' ' ' ' ' ' ']]\n",
      "Move #: 11; Taking action: l\n",
      "[['P' 'W' ' ' '-']\n",
      " [' ' ' ' ' ' ' ']\n",
      " [' ' ' ' '+' ' ']\n",
      " [' ' ' ' ' ' ' ']]\n",
      "Move #: 12; Taking action: l\n",
      "[['P' 'W' ' ' '-']\n",
      " [' ' ' ' ' ' ' ']\n",
      " [' ' ' ' '+' ' ']\n",
      " [' ' ' ' ' ' ' ']]\n",
      "Move #: 13; Taking action: l\n",
      "[['P' 'W' ' ' '-']\n",
      " [' ' ' ' ' ' ' ']\n",
      " [' ' ' ' '+' ' ']\n",
      " [' ' ' ' ' ' ' ']]\n",
      "Move #: 14; Taking action: l\n",
      "[['P' 'W' ' ' '-']\n",
      " [' ' ' ' ' ' ' ']\n",
      " [' ' ' ' '+' ' ']\n",
      " [' ' ' ' ' ' ' ']]\n",
      "Move #: 15; Taking action: l\n",
      "[['P' 'W' ' ' '-']\n",
      " [' ' ' ' ' ' ' ']\n",
      " [' ' ' ' '+' ' ']\n",
      " [' ' ' ' ' ' ' ']]\n",
      "Game lost; too many moves.\n"
     ]
    },
    {
     "data": {
      "text/plain": "False"
     },
     "execution_count": 17,
     "metadata": {},
     "output_type": "execute_result"
    }
   ],
   "source": [
    "test_model(model)"
   ]
  },
  {
   "cell_type": "markdown",
   "metadata": {},
   "source": [
    "##### Listing 3.5"
   ]
  },
  {
   "cell_type": "code",
   "execution_count": 18,
   "metadata": {
    "ExecuteTime": {
     "end_time": "2024-01-13T14:42:57.541826825Z",
     "start_time": "2024-01-13T14:42:57.531716603Z"
    }
   },
   "outputs": [],
   "source": [
    "l1 = 64\n",
    "l2 = 150\n",
    "l3 = 100\n",
    "l4 = 4\n",
    "\n",
    "model = torch.nn.Sequential(\n",
    "    torch.nn.Linear(l1, l2),\n",
    "    torch.nn.ReLU(),\n",
    "    torch.nn.Linear(l2, l3),\n",
    "    torch.nn.ReLU(),\n",
    "    torch.nn.Linear(l3,l4)\n",
    ")\n",
    "loss_fn = torch.nn.MSELoss()\n",
    "learning_rate = 1e-3\n",
    "optimizer = torch.optim.Adam(model.parameters(), lr=learning_rate)\n",
    "\n",
    "learning_rate = 1e-3\n",
    "optimizer = torch.optim.Adam(model.parameters(), lr=learning_rate)\n",
    "\n",
    "gamma = 0.9\n",
    "epsilon = 0.3"
   ]
  },
  {
   "cell_type": "code",
   "execution_count": 19,
   "metadata": {},
   "outputs": [
    {
     "name": "stdout",
     "output_type": "stream",
     "text": [
      "4999 0.020231256261467934\n"
     ]
    }
   ],
   "source": [
    "from collections import deque\n",
    "\n",
    "# 设置训练的总周期数\n",
    "epochs = 5000\n",
    "# 用于存储损失的列表\n",
    "losses = []\n",
    "# 设置经验回放记忆的总大小\n",
    "mem_size = 1000  # A\n",
    "# 设置每次训练时使用的经验样本数量\n",
    "batch_size = 200  # B\n",
    "# 创建经验回放队列作为双端队列，限制队列大小\n",
    "replay = deque(maxlen=mem_size)  # C\n",
    "# 设置每局游戏最大的移动步数\n",
    "max_moves = 50  # D\n",
    "\n",
    "# 循环执行训练周期\n",
    "for i in range(epochs):\n",
    "    # 创建 Gridworld 游戏实例\n",
    "    game = Gridworld(size=4, mode='random')\n",
    "    # 初始化游戏状态，并添加一些随机噪声\n",
    "    state1_ = game.board.render_np().reshape(1, 64) + np.random.rand(1, 64) / 100.0\n",
    "    # 将NumPy数组转换为PyTorch张量\n",
    "    state1 = torch.from_numpy(state1_).float()\n",
    "    # 游戏状态，1表示游戏进行中\n",
    "    status = 1\n",
    "    # 记录移动步数\n",
    "    mov = 0\n",
    "    \n",
    "    while status == 1:  # 当游戏状态为1时（游戏进行中）\n",
    "        mov += 1\n",
    "        # 计算模型对当前状态的Q值  # E\n",
    "        qval = model(state1)\n",
    "        qval_ = qval.data.numpy()\n",
    "        \n",
    "        # 使用ε-贪心策略选择动作  # F\n",
    "        if random.random() < epsilon:\n",
    "            action_ = np.random.randint(0, 4)\n",
    "        else:\n",
    "            action_ = np.argmax(qval_)\n",
    "        \n",
    "        # 获取对应的动作\n",
    "        action = action_set[action_]\n",
    "        # 执行动作并更新游戏状态\n",
    "        game.makeMove(action)\n",
    "        \n",
    "        # 获取新的状态，并添加一些随机噪声\n",
    "        state2_ = game.board.render_np().reshape(1, 64) + np.random.rand(1, 64) / 100.0\n",
    "        # 将NumPy数组转换为PyTorch张量\n",
    "        state2 = torch.from_numpy(state2_).float()\n",
    "        # 获取当前动作的奖励\n",
    "        reward = game.reward()\n",
    "        # 游戏是否结束的标志\n",
    "        done = True if reward > 0 else False\n",
    "        # 创建经验元组，包含当前状态、动作、奖励、下一状态和游戏是否结束的信息  # G\n",
    "        exp = (state1, action_, reward, state2, done)\n",
    "        # 将经验元组添加到经验回放队列中  # H\n",
    "        replay.append(exp)\n",
    "        # 更新当前状态为新状态\n",
    "        state1 = state2\n",
    "        \n",
    "        # 如果经验回放队列长度超过了设定的minibatch大小，开始进行训练  # I\n",
    "        if len(replay) > batch_size:\n",
    "            # 从经验回放队列中随机抽取一部分经验元组，形成minibatch  # J\n",
    "            minibatch = random.sample(replay, batch_size)\n",
    "            # 将minibatch中的各个组件分离为不同的Tensor  # K\n",
    "            state1_batch = torch.cat([s1 for (s1, a, r, s2, d) in minibatch])\n",
    "            action_batch = torch.Tensor([a for (s1, a, r, s2, d) in minibatch])\n",
    "            reward_batch = torch.Tensor([r for (s1, a, r, s2, d) in minibatch])\n",
    "            state2_batch = torch.cat([s2 for (s1, a, r, s2, d) in minibatch])\n",
    "            done_batch = torch.Tensor([d for (s1, a, r, s2, d) in minibatch])\n",
    "            \n",
    "            # 计算当前状态的Q值，用于计算梯度  # L\n",
    "            Q1 = model(state1_batch)\n",
    "            # 计算下一状态的Q值，不计算梯度  # M\n",
    "            with torch.no_grad():\n",
    "                Q2 = model(state2_batch)\n",
    "            \n",
    "            # 计算目标Q值，用于更新模型  # N\n",
    "            Y = reward_batch + gamma * ((1 - done_batch) * torch.max(Q2, dim=1)[0])\n",
    "            X = Q1.gather(dim=1, index=action_batch.long().unsqueeze(dim=1)).squeeze()\n",
    "            # 计算损失并输出  # O\n",
    "            loss = loss_fn(X, Y.detach())\n",
    "            print(i, loss.item())\n",
    "            clear_output(wait=True)\n",
    "            # 梯度清零\n",
    "            optimizer.zero_grad()\n",
    "            # 反向传播计算梯度\n",
    "            loss.backward()\n",
    "            # 记录损失值\n",
    "            losses.append(loss.item())\n",
    "            # 更新模型参数\n",
    "            optimizer.step()\n",
    "\n",
    "        # 如果游戏结束或者达到最大移动步数，重置游戏状态和移动步数  # O\n",
    "        if reward != -1 or mov > max_moves:\n",
    "            status = 0\n",
    "            mov = 0\n",
    "\n",
    "# 将损失值转换为NumPy数组\n",
    "losses = np.array(losses)\n",
    "\n",
    "\n",
    "#A Set the total size of the experience replay memory\n",
    "#B Set the minibatch size\n",
    "#C Create the memory replay as a deque list\n",
    "#D Maximum number of moves before game is over\n",
    "#E Compute Q-values from input state in order to select action\n",
    "#F Select action using epsilon-greedy strategy\n",
    "#G Create experience of state, reward, action and next state as a tuple\n",
    "#H Add experience to experience replay list\n",
    "#I If replay list is at least as long as minibatch size, begin minibatch training\n",
    "#J Randomly sample a subset of the replay list\n",
    "#K Separate out the components of each experience into separate minibatch tensors\n",
    "#L Re-compute Q-values for minibatch of states to get gradients\n",
    "#M Compute Q-values for minibatch of next states but don't compute gradients\n",
    "#N Compute the target Q-values we want the DQN to learn\n",
    "#O If game is over, reset status and mov number"
   ]
  },
  {
   "cell_type": "code",
   "execution_count": 20,
   "metadata": {
    "ExecuteTime": {
     "end_time": "2024-01-13T14:49:15.813954859Z",
     "start_time": "2024-01-13T14:49:15.810657330Z"
    }
   },
   "outputs": [],
   "source": [
    "def running_mean(x,N=50):\n",
    "    c = x.shape[0] - N\n",
    "    y = np.zeros(c)\n",
    "    conv = np.ones(N)\n",
    "    for i in range(c):\n",
    "        y[i] = (x[i:i+N] @ conv)/N\n",
    "    return y"
   ]
  },
  {
   "cell_type": "code",
   "execution_count": 21,
   "metadata": {
    "ExecuteTime": {
     "end_time": "2024-01-13T14:49:19.205869053Z",
     "start_time": "2024-01-13T14:49:19.066655230Z"
    }
   },
   "outputs": [
    {
     "data": {
      "text/plain": "Text(0, 0.5, 'Loss')"
     },
     "execution_count": 21,
     "metadata": {},
     "output_type": "execute_result"
    },
    {
     "data": {
      "text/plain": "<Figure size 1000x700 with 1 Axes>",
      "image/png": "[encoded data removed]"
     },
     "metadata": {},
     "output_type": "display_data"
    }
   ],
   "source": [
    "plt.figure(figsize=(10,7))\n",
    "plt.plot(losses)\n",
    "plt.xlabel(\"Epochs\",fontsize=22)\n",
    "plt.ylabel(\"Loss\",fontsize=22)"
   ]
  },
  {
   "cell_type": "code",
   "execution_count": 22,
   "metadata": {
    "ExecuteTime": {
     "end_time": "2024-01-13T14:49:29.462658678Z",
     "start_time": "2024-01-13T14:49:29.261167935Z"
    }
   },
   "outputs": [
    {
     "name": "stdout",
     "output_type": "stream",
     "text": [
      "Games played: 1000, # of wins: 893\n",
      "Win percentage: 89.3%\n"
     ]
    }
   ],
   "source": [
    "max_games = 1000\n",
    "wins = 0\n",
    "for i in range(max_games):\n",
    "    win = test_model(model, mode='random', display=False)\n",
    "    if win:\n",
    "        wins += 1\n",
    "win_perc = float(wins) / float(max_games)\n",
    "print(\"Games played: {0}, # of wins: {1}\".format(max_games,wins))\n",
    "print(\"Win percentage: {}%\".format(100.0*win_perc))"
   ]
  },
  {
   "cell_type": "code",
   "execution_count": 23,
   "metadata": {
    "ExecuteTime": {
     "end_time": "2024-01-13T14:49:41.634868296Z",
     "start_time": "2024-01-13T14:49:41.629987038Z"
    }
   },
   "outputs": [
    {
     "name": "stdout",
     "output_type": "stream",
     "text": [
      "Initial State:\n",
      "[[' ' 'W' ' ' ' ']\n",
      " ['P' ' ' ' ' '+']\n",
      " [' ' ' ' ' ' ' ']\n",
      " [' ' ' ' ' ' '-']]\n",
      "Move #: 0; Taking action: r\n",
      "[[' ' 'W' ' ' ' ']\n",
      " [' ' 'P' ' ' '+']\n",
      " [' ' ' ' ' ' ' ']\n",
      " [' ' ' ' ' ' '-']]\n",
      "Move #: 1; Taking action: r\n",
      "[[' ' 'W' ' ' ' ']\n",
      " [' ' ' ' 'P' '+']\n",
      " [' ' ' ' ' ' ' ']\n",
      " [' ' ' ' ' ' '-']]\n",
      "Move #: 2; Taking action: r\n",
      "[[' ' 'W' ' ' ' ']\n",
      " [' ' ' ' ' ' '+']\n",
      " [' ' ' ' ' ' ' ']\n",
      " [' ' ' ' ' ' '-']]\n",
      "Game won! Reward: 10\n"
     ]
    },
    {
     "data": {
      "text/plain": "True"
     },
     "execution_count": 23,
     "metadata": {},
     "output_type": "execute_result"
    }
   ],
   "source": [
    "test_model(model, mode='random')"
   ]
  },
  {
   "cell_type": "markdown",
   "metadata": {},
   "source": [
    "###### Listing 3.7"
   ]
  },
  {
   "cell_type": "code",
   "execution_count": 24,
   "metadata": {
    "ExecuteTime": {
     "end_time": "2024-01-13T15:03:09.176047248Z",
     "start_time": "2024-01-13T15:03:09.170293302Z"
    }
   },
   "outputs": [],
   "source": [
    "import copy\n",
    "\n",
    "# 定义神经网络的层的大小\n",
    "l1 = 64\n",
    "l2 = 150\n",
    "l3 = 100\n",
    "l4 = 4\n",
    "\n",
    "# 创建主模型\n",
    "model = torch.nn.Sequential(\n",
    "    torch.nn.Linear(l1, l2),\n",
    "    torch.nn.ReLU(),\n",
    "    torch.nn.Linear(l2, l3),\n",
    "    torch.nn.ReLU(),\n",
    "    torch.nn.Linear(l3, l4)\n",
    ")\n",
    "\n",
    "# 创建目标网络，并使用深拷贝复制主模型的结构\n",
    "model2 = copy.deepcopy(model)  # A\n",
    "\n",
    "# 将目标网络的参数初始化为主模型的参数\n",
    "model2.load_state_dict(model.state_dict())  # B\n",
    "\n",
    "# 定义损失函数、学习率和优化器\n",
    "loss_fn = torch.nn.MSELoss()\n",
    "learning_rate = 1e-3\n",
    "optimizer = torch.optim.Adam(model.parameters(), lr=learning_rate)\n",
    "\n",
    "# 设置折扣因子和ε-贪心策略的参数\n",
    "gamma = 0.9\n",
    "epsilon = 0.3"
   ]
  },
  {
   "cell_type": "code",
   "execution_count": 25,
   "metadata": {},
   "outputs": [
    {
     "name": "stdout",
     "output_type": "stream",
     "text": [
      "4999 0.016336964443325996\n"
     ]
    }
   ],
   "source": [
    "from collections import deque\n",
    "\n",
    "# 定义训练周期数\n",
    "epochs = 5000\n",
    "# 用于存储损失的列表\n",
    "losses = []\n",
    "# 设置经验回放记忆的总大小\n",
    "mem_size = 1000\n",
    "# 设置每次训练时使用的经验样本数量\n",
    "batch_size = 200\n",
    "# 创建经验回放队列作为双端队列，限制队列大小\n",
    "replay = deque(maxlen=mem_size)\n",
    "# 设置每局游戏最大的移动步数\n",
    "max_moves = 50\n",
    "# 记录同步频率\n",
    "sync_freq = 500  # A\n",
    "# 记录总的动作次数\n",
    "j = 0\n",
    "\n",
    "# 循环执行训练周期\n",
    "for i in range(epochs):\n",
    "    # 创建 Gridworld 游戏实例\n",
    "    game = Gridworld(size=4, mode='random')\n",
    "    # 初始化游戏状态，并添加一些随机噪声\n",
    "    state1_ = game.board.render_np().reshape(1, 64) + np.random.rand(1, 64) / 100.0\n",
    "    # 将NumPy数组转换为PyTorch张量\n",
    "    state1 = torch.from_numpy(state1_).float()\n",
    "    # 游戏状态，1表示游戏进行中\n",
    "    status = 1\n",
    "    # 记录移动步数\n",
    "    mov = 0\n",
    "    \n",
    "    while status == 1:  # 当游戏状态为1时（游戏进行中）\n",
    "        j += 1  # 记录总的动作次数\n",
    "        mov += 1\n",
    "        # 计算模型对当前状态的Q值\n",
    "        qval = model(state1)\n",
    "        qval_ = qval.data.numpy()\n",
    "        \n",
    "        # 使用ε-贪心策略选择动作\n",
    "        if random.random() < epsilon:\n",
    "            action_ = np.random.randint(0, 4)\n",
    "        else:\n",
    "            action_ = np.argmax(qval_)\n",
    "        \n",
    "        # 获取对应的动作\n",
    "        action = action_set[action_]\n",
    "        # 执行动作并更新游戏状态\n",
    "        game.makeMove(action)\n",
    "        \n",
    "        # 获取新的状态，并添加一些随机噪声\n",
    "        state2_ = game.board.render_np().reshape(1, 64) + np.random.rand(1, 64) / 100.0\n",
    "        # 将NumPy数组转换为PyTorch张量\n",
    "        state2 = torch.from_numpy(state2_).float()\n",
    "        # 获取当前动作的奖励\n",
    "        reward = game.reward()\n",
    "        # 游戏是否结束的标志\n",
    "        done = True if reward > 0 else False\n",
    "        # 创建经验元组，包含当前状态、动作、奖励、下一状态和游戏是否结束的信息\n",
    "        exp = (state1, action_, reward, state2, done)\n",
    "        # 将经验元组添加到经验回放队列中\n",
    "        replay.append(exp)  # H\n",
    "        # 更新当前状态为新状态\n",
    "        state1 = state2\n",
    "        \n",
    "        # 如果经验回放队列长度超过了设定的minibatch大小，开始进行训练\n",
    "        if len(replay) > batch_size:\n",
    "            # 从经验回放队列中随机抽取一部分经验元组，形成minibatch\n",
    "            minibatch = random.sample(replay, batch_size)\n",
    "            # 将minibatch中的各个组件分离为不同的Tensor\n",
    "            state1_batch = torch.cat([s1 for (s1, a, r, s2, d) in minibatch])\n",
    "            action_batch = torch.Tensor([a for (s1, a, r, s2, d) in minibatch])\n",
    "            reward_batch = torch.Tensor([r for (s1, a, r, s2, d) in minibatch])\n",
    "            state2_batch = torch.cat([s2 for (s1, a, r, s2, d) in minibatch])\n",
    "            done_batch = torch.Tensor([d for (s1, a, r, s2, d) in minibatch])\n",
    "            \n",
    "            # 计算当前状态的Q值，用于计算梯度\n",
    "            Q1 = model(state1_batch)\n",
    "            # 使用目标网络获取下一状态的Q值  # B\n",
    "            with torch.no_grad():\n",
    "                Q2 = model2(state2_batch)\n",
    "            \n",
    "            # 计算目标Q值，用于更新模型\n",
    "            Y = reward_batch + gamma * ((1 - done_batch) * torch.max(Q2, dim=1)[0])\n",
    "            X = Q1.gather(dim=1, index=action_batch.long().unsqueeze(dim=1)).squeeze()\n",
    "            # 计算损失并输出\n",
    "            loss = loss_fn(X, Y.detach())\n",
    "            print(i, loss.item())\n",
    "            clear_output(wait=True)\n",
    "            # 梯度清零\n",
    "            optimizer.zero_grad()\n",
    "            # 反向传播计算梯度\n",
    "            loss.backward()\n",
    "            # 记录损失值\n",
    "            losses.append(loss.item())\n",
    "            # 更新模型参数\n",
    "            optimizer.step()\n",
    "            \n",
    "            # 每隔一定的动作次数，同步目标网络的参数到主模型\n",
    "            if j % sync_freq == 0:  # C\n",
    "                model2.load_state_dict(model.state_dict())\n",
    "\n",
    "        # 如果游戏结束或者达到最大移动步数，重置游戏状态和移动步数\n",
    "        if reward != -1 or mov > max_moves:\n",
    "            status = 0\n",
    "            mov = 0\n",
    "        \n",
    "# 将损失值转换为NumPy数组\n",
    "losses = np.array(losses)"
   ]
  },
  {
   "cell_type": "code",
   "execution_count": 26,
   "metadata": {
    "ExecuteTime": {
     "end_time": "2024-01-13T15:15:10.725021132Z",
     "start_time": "2024-01-13T15:15:10.623400434Z"
    }
   },
   "outputs": [
    {
     "data": {
      "text/plain": "Text(0, 0.5, 'Loss')"
     },
     "execution_count": 26,
     "metadata": {},
     "output_type": "execute_result"
    },
    {
     "data": {
      "text/plain": "<Figure size 1000x700 with 1 Axes>",
      "image/png": "[encoded data removed]"
     },
     "metadata": {},
     "output_type": "display_data"
    }
   ],
   "source": [
    "plt.figure(figsize=(10,7))\n",
    "plt.plot(losses)\n",
    "plt.xlabel(\"Epochs\",fontsize=22)\n",
    "plt.ylabel(\"Loss\",fontsize=22)"
   ]
  },
  {
   "cell_type": "code",
   "execution_count": 27,
   "metadata": {
    "ExecuteTime": {
     "end_time": "2024-01-13T15:15:19.755699812Z",
     "start_time": "2024-01-13T15:15:19.546017958Z"
    }
   },
   "outputs": [
    {
     "name": "stdout",
     "output_type": "stream",
     "text": [
      "Games played: 1000, # of wins: 902\n",
      "Win percentage: 90.2%\n"
     ]
    }
   ],
   "source": [
    "max_games = 1000\n",
    "wins = 0\n",
    "for i in range(max_games):\n",
    "    win = test_model(model, mode='random', display=False)\n",
    "    if win:\n",
    "        wins += 1\n",
    "win_perc = float(wins) / float(max_games)\n",
    "print(\"Games played: {0}, # of wins: {1}\".format(max_games,wins))\n",
    "print(\"Win percentage: {}%\".format(100.0*win_perc))"
   ]
  },
  {
   "cell_type": "code",
   "execution_count": null,
   "metadata": {},
   "outputs": [],
   "source": []
  }
 ],
 "metadata": {
  "kernelspec": {
   "name": "python3",
   "language": "python",
   "display_name": "Python 3 (ipykernel)"
  },
  "language_info": {
   "codemirror_mode": {
    "name": "ipython",
    "version": 3
   },
   "file_extension": ".py",
   "mimetype": "text/x-python",
   "name": "python",
   "nbconvert_exporter": "python",
   "pygments_lexer": "ipython3",
   "version": "3.6.7"
  }
 },
 "nbformat": 4,
 "nbformat_minor": 2
}
